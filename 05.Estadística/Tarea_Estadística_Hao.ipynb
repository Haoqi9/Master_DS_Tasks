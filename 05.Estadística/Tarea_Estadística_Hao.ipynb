{
 "cells": [
  {
   "cell_type": "markdown",
   "metadata": {},
   "source": [
    "# TAREA ESTADÍSTICA (Hao)"
   ]
  },
  {
   "cell_type": "markdown",
   "metadata": {},
   "source": [
    "## Ejercicio 1"
   ]
  },
  {
   "cell_type": "markdown",
   "metadata": {},
   "source": [
    "**Una de las enfermedades que más preocupa a las autoridades sanitarias es \n",
    "la hipertensión. La hipertensión arterial afecta más del 30% de la población \n",
    "adulta mundial y es el principal factor de riesgo de padecer enfermedades \n",
    "cardiovasculares. Por ello, la lucha contra esta enfermedad es objetivo de \n",
    "los sistemas sanitarios de todo el mundo. \n",
    "En un laboratorio europeo se está trabajando en un medicamento innovador \n",
    "con cierta composición de etanol para reducir la presión arterial alta \n",
    "(sistólica). El medicamento se suministra a 100 pacientes de diferentes \n",
    "edades por vía oral en forma de comprimido. Para obtener mejores \n",
    "conclusiones en el estudio, se divide a las 100 personas en dos grupos, grupo \n",
    "1 (pacientes con edad igual o inferior a 35 años) y grupo 2 (pacientes con \n",
    "edad superior a 35 años). En la hoja de cálculo Excel llamada “HIPERTENSIÓN \n",
    "“aparecen los datos de las 100 personas que se han empleado en el estudio. \n",
    "En la primera columna aparece la edad del paciente, en la segunda columna \n",
    "aparece la presión sistólica antes de la ingestión del medicamento y en la \n",
    "tercera columna aparece indicado el valor de la presión sistólica 60 minutos \n",
    "después de la toma del medicamento. Los 40 primeros datos corresponden a \n",
    "pacientes del primer grupo y los 60 restantes a pacientes del segundo grupo. \n",
    "También se incluye una última columna donde figura el valor del colesterol \n",
    "total del paciente.\n",
    "A partir de los datos que aparecen en la hoja de cálculo, se pide contestar a \n",
    "las siguientes cuestiones:**\n"
   ]
  },
  {
   "cell_type": "code",
   "execution_count": 1,
   "metadata": {},
   "outputs": [],
   "source": [
    "# Cargar los paquetes necesarios:\n",
    "import matplotlib.pyplot as plt\n",
    "import pandas as pd\n",
    "import scipy as sp\n",
    "\n",
    "plt.style.use('ggplot')"
   ]
  },
  {
   "cell_type": "code",
   "execution_count": 3,
   "metadata": {},
   "outputs": [
    {
     "data": {
      "text/html": [
       "<div>\n",
       "<style scoped>\n",
       "    .dataframe tbody tr th:only-of-type {\n",
       "        vertical-align: middle;\n",
       "    }\n",
       "\n",
       "    .dataframe tbody tr th {\n",
       "        vertical-align: top;\n",
       "    }\n",
       "\n",
       "    .dataframe thead th {\n",
       "        text-align: right;\n",
       "    }\n",
       "</style>\n",
       "<table border=\"1\" class=\"dataframe\">\n",
       "  <thead>\n",
       "    <tr style=\"text-align: right;\">\n",
       "      <th></th>\n",
       "      <th>Grupo</th>\n",
       "      <th>Edad</th>\n",
       "      <th>Presion sistólica antes</th>\n",
       "      <th>Presión sistólica después</th>\n",
       "      <th>Colesterol total</th>\n",
       "    </tr>\n",
       "  </thead>\n",
       "  <tbody>\n",
       "    <tr>\n",
       "      <th>0</th>\n",
       "      <td>1</td>\n",
       "      <td>30</td>\n",
       "      <td>126</td>\n",
       "      <td>118</td>\n",
       "      <td>191</td>\n",
       "    </tr>\n",
       "    <tr>\n",
       "      <th>1</th>\n",
       "      <td>1</td>\n",
       "      <td>25</td>\n",
       "      <td>114</td>\n",
       "      <td>110</td>\n",
       "      <td>174</td>\n",
       "    </tr>\n",
       "    <tr>\n",
       "      <th>2</th>\n",
       "      <td>1</td>\n",
       "      <td>27</td>\n",
       "      <td>110</td>\n",
       "      <td>110</td>\n",
       "      <td>175</td>\n",
       "    </tr>\n",
       "    <tr>\n",
       "      <th>3</th>\n",
       "      <td>1</td>\n",
       "      <td>34</td>\n",
       "      <td>108</td>\n",
       "      <td>105</td>\n",
       "      <td>173</td>\n",
       "    </tr>\n",
       "    <tr>\n",
       "      <th>4</th>\n",
       "      <td>1</td>\n",
       "      <td>35</td>\n",
       "      <td>131</td>\n",
       "      <td>132</td>\n",
       "      <td>200</td>\n",
       "    </tr>\n",
       "    <tr>\n",
       "      <th>...</th>\n",
       "      <td>...</td>\n",
       "      <td>...</td>\n",
       "      <td>...</td>\n",
       "      <td>...</td>\n",
       "      <td>...</td>\n",
       "    </tr>\n",
       "    <tr>\n",
       "      <th>95</th>\n",
       "      <td>2</td>\n",
       "      <td>54</td>\n",
       "      <td>117</td>\n",
       "      <td>100</td>\n",
       "      <td>194</td>\n",
       "    </tr>\n",
       "    <tr>\n",
       "      <th>96</th>\n",
       "      <td>2</td>\n",
       "      <td>50</td>\n",
       "      <td>148</td>\n",
       "      <td>141</td>\n",
       "      <td>239</td>\n",
       "    </tr>\n",
       "    <tr>\n",
       "      <th>97</th>\n",
       "      <td>2</td>\n",
       "      <td>54</td>\n",
       "      <td>121</td>\n",
       "      <td>115</td>\n",
       "      <td>196</td>\n",
       "    </tr>\n",
       "    <tr>\n",
       "      <th>98</th>\n",
       "      <td>2</td>\n",
       "      <td>52</td>\n",
       "      <td>154</td>\n",
       "      <td>155</td>\n",
       "      <td>270</td>\n",
       "    </tr>\n",
       "    <tr>\n",
       "      <th>99</th>\n",
       "      <td>2</td>\n",
       "      <td>46</td>\n",
       "      <td>120</td>\n",
       "      <td>116</td>\n",
       "      <td>214</td>\n",
       "    </tr>\n",
       "  </tbody>\n",
       "</table>\n",
       "<p>100 rows × 5 columns</p>\n",
       "</div>"
      ],
      "text/plain": [
       "    Grupo  Edad  Presion sistólica antes  Presión sistólica después  \\\n",
       "0       1    30                      126                        118   \n",
       "1       1    25                      114                        110   \n",
       "2       1    27                      110                        110   \n",
       "3       1    34                      108                        105   \n",
       "4       1    35                      131                        132   \n",
       "..    ...   ...                      ...                        ...   \n",
       "95      2    54                      117                        100   \n",
       "96      2    50                      148                        141   \n",
       "97      2    54                      121                        115   \n",
       "98      2    52                      154                        155   \n",
       "99      2    46                      120                        116   \n",
       "\n",
       "    Colesterol total  \n",
       "0                191  \n",
       "1                174  \n",
       "2                175  \n",
       "3                173  \n",
       "4                200  \n",
       "..               ...  \n",
       "95               194  \n",
       "96               239  \n",
       "97               196  \n",
       "98               270  \n",
       "99               214  \n",
       "\n",
       "[100 rows x 5 columns]"
      ]
     },
     "execution_count": 3,
     "metadata": {},
     "output_type": "execute_result"
    }
   ],
   "source": [
    "# Cargar los datos del Excel \"HIPERTENSIÓN\":\n",
    "df_hipertension = pd.read_excel(r\"C:\\Users\\34685\\Desktop\\Máster_UCM\\Módulos\\1.Estadística\\1.Datos\\HIPERTENSION.xlsx\",\n",
    "                                sheet_name=0)\n",
    "\n",
    "# Una primera visualización del dataframe (df):\n",
    "df_hipertension"
   ]
  },
  {
   "cell_type": "markdown",
   "metadata": {},
   "source": [
    "### a)"
   ]
  },
  {
   "cell_type": "markdown",
   "metadata": {},
   "source": [
    "**Obtener, usando algún programa estadístico, las medidas de\n",
    "centralización y dispersión para cada uno de los dos grupos de control de\n",
    "la variable (grupo 1 y grupo 2) que mide la presión sistólica antes de la \n",
    "toma del medicamento e indica si la media en cada uno de estos grupos \n",
    "puede considerarse representativa a partir de los datos obtenidos.**\n"
   ]
  },
  {
   "cell_type": "markdown",
   "metadata": {},
   "source": [
    "La media de la presión sistólica antes de la ingestión del medicamento para los grupos 1 y 2 son 123,425 y 127,483, respectivamente.\n",
    "\n",
    "La desviación típica de dicha variable es de 9,026 para el grupo 1 y 13,88 para el grupo 2.\n",
    "\n",
    "Las medias obtenidas de ambos grupos pueden ser consideradas representativas ya que el coeficiente de variación es menor que 0,3 en ambos casos (0,07 y 0,1)."
   ]
  },
  {
   "cell_type": "code",
   "execution_count": 4,
   "metadata": {},
   "outputs": [
    {
     "data": {
      "text/html": [
       "<div>\n",
       "<style scoped>\n",
       "    .dataframe tbody tr th:only-of-type {\n",
       "        vertical-align: middle;\n",
       "    }\n",
       "\n",
       "    .dataframe tbody tr th {\n",
       "        vertical-align: top;\n",
       "    }\n",
       "\n",
       "    .dataframe thead tr th {\n",
       "        text-align: left;\n",
       "    }\n",
       "\n",
       "    .dataframe thead tr:last-of-type th {\n",
       "        text-align: right;\n",
       "    }\n",
       "</style>\n",
       "<table border=\"1\" class=\"dataframe\">\n",
       "  <thead>\n",
       "    <tr>\n",
       "      <th></th>\n",
       "      <th colspan=\"3\" halign=\"left\">Presion sistólica antes</th>\n",
       "    </tr>\n",
       "    <tr>\n",
       "      <th></th>\n",
       "      <th>mean</th>\n",
       "      <th>std</th>\n",
       "      <th>CV</th>\n",
       "    </tr>\n",
       "    <tr>\n",
       "      <th>Grupo</th>\n",
       "      <th></th>\n",
       "      <th></th>\n",
       "      <th></th>\n",
       "    </tr>\n",
       "  </thead>\n",
       "  <tbody>\n",
       "    <tr>\n",
       "      <th>1</th>\n",
       "      <td>123.425000</td>\n",
       "      <td>9.026705</td>\n",
       "      <td>0.073135</td>\n",
       "    </tr>\n",
       "    <tr>\n",
       "      <th>2</th>\n",
       "      <td>127.483333</td>\n",
       "      <td>13.888773</td>\n",
       "      <td>0.108946</td>\n",
       "    </tr>\n",
       "  </tbody>\n",
       "</table>\n",
       "</div>"
      ],
      "text/plain": [
       "      Presion sistólica antes                     \n",
       "                         mean        std        CV\n",
       "Grupo                                             \n",
       "1                  123.425000   9.026705  0.073135\n",
       "2                  127.483333  13.888773  0.108946"
      ]
     },
     "execution_count": 4,
     "metadata": {},
     "output_type": "execute_result"
    }
   ],
   "source": [
    "# Crear una función para calcular el coeficiente de variación:\n",
    "def CV(df_grupo):\n",
    "        return df_grupo.std() / df_grupo.mean()\n",
    "\n",
    "# Crear un df de los estadísticos para cada grupo:\n",
    "(df_hipertension\n",
    "        # Agregar los datos por grupo: 1 y 2\n",
    "        .groupby(by='Grupo')\n",
    "        # Seleccionar solamente la columna de interés\n",
    "        [['Presion sistólica antes']]\n",
    "        # Aplicar las funciones de agregación\n",
    "        .agg(['mean', 'std', CV])\n",
    ")"
   ]
  },
  {
   "cell_type": "markdown",
   "metadata": {},
   "source": [
    "### b)"
   ]
  },
  {
   "cell_type": "markdown",
   "metadata": {},
   "source": [
    "**Estudiar la simetría y la curtosis del nivel de presión sistólica en los \n",
    "pacientes del segundo grupo para cada una de las mediciones de la\n",
    "hipertensión que aparecen en la tabla.**"
   ]
  },
  {
   "cell_type": "markdown",
   "metadata": {},
   "source": [
    "La distribución de ambas presiones sistólicas se aproximan a una normal con una ligera asimetría hacia la izquierda (-0,13 y -0,19).\n",
    "\n",
    "Se observa, además, que la distribución de la presión sistólica antes es más dispersa (-0,6) que la de la misma después del medicamento (0,37)."
   ]
  },
  {
   "cell_type": "code",
   "execution_count": 5,
   "metadata": {},
   "outputs": [
    {
     "data": {
      "text/html": [
       "<div>\n",
       "<style scoped>\n",
       "    .dataframe tbody tr th:only-of-type {\n",
       "        vertical-align: middle;\n",
       "    }\n",
       "\n",
       "    .dataframe tbody tr th {\n",
       "        vertical-align: top;\n",
       "    }\n",
       "\n",
       "    .dataframe thead th {\n",
       "        text-align: right;\n",
       "    }\n",
       "</style>\n",
       "<table border=\"1\" class=\"dataframe\">\n",
       "  <thead>\n",
       "    <tr style=\"text-align: right;\">\n",
       "      <th></th>\n",
       "      <th>Presion sistólica antes</th>\n",
       "      <th>Presión sistólica después</th>\n",
       "    </tr>\n",
       "  </thead>\n",
       "  <tbody>\n",
       "    <tr>\n",
       "      <th>kurtosis</th>\n",
       "      <td>-0.602056</td>\n",
       "      <td>0.369188</td>\n",
       "    </tr>\n",
       "    <tr>\n",
       "      <th>skew</th>\n",
       "      <td>-0.136599</td>\n",
       "      <td>-0.193776</td>\n",
       "    </tr>\n",
       "  </tbody>\n",
       "</table>\n",
       "</div>"
      ],
      "text/plain": [
       "          Presion sistólica antes  Presión sistólica después\n",
       "kurtosis                -0.602056                   0.369188\n",
       "skew                    -0.136599                  -0.193776"
      ]
     },
     "execution_count": 5,
     "metadata": {},
     "output_type": "execute_result"
    }
   ],
   "source": [
    "(df_hipertension\n",
    "                # Filtrar por pacientes del grupo 2 y las dos columnas sobre hipertensión\n",
    "                .loc[df_hipertension['Grupo'] == 2, ['Presion sistólica antes', 'Presión sistólica después']]\n",
    "                # Aplicar las dos funciones de agregación: kurtosis y skew.\n",
    "                .agg(['kurtosis', 'skew'])\n",
    ")"
   ]
  },
  {
   "cell_type": "code",
   "execution_count": 6,
   "metadata": {},
   "outputs": [
    {
     "data": {
      "image/png": "[encoded data removed]",
      "text/plain": [
       "<Figure size 640x480 with 2 Axes>"
      ]
     },
     "metadata": {},
     "output_type": "display_data"
    }
   ],
   "source": [
    "# Visualizar las funciones de densidad para ambas variables:\n",
    "(df_hipertension\n",
    "                .loc[df_hipertension['Grupo'] == 2]\n",
    "                [['Presion sistólica antes', 'Presión sistólica después']]\n",
    "                .plot.density(subplots=True)\n",
    ");"
   ]
  },
  {
   "cell_type": "markdown",
   "metadata": {},
   "source": [
    "### c)"
   ]
  },
  {
   "cell_type": "markdown",
   "metadata": {},
   "source": [
    "**Indicar para cada una de las variables relacionadas con la medición \n",
    "de la presión sistólica que aparecen en el fichero el valor de los cuartiles \n",
    "y su significado y obtener el box- plot ( diagrama de cajas) \n",
    "correspondiente. Estudiar la presencia de valores atípicos.**"
   ]
  },
  {
   "cell_type": "markdown",
   "metadata": {},
   "source": [
    "`Asumiendo que se me pregunta por las variables del grupo total en vez del grupo 2 solamente :`\n",
    "\n",
    "Los valores de los cuartiles para las dos variables sobre la presión sistólica vienen dados por la tabla de abajo en la que 25%, 50%, y 75% representan Q1, Q2, y Q3, respectivamente. \n",
    "\n",
    "Q1 es el valor que deja a su izquierda el 25% de los datos. En el caso de la presión sistólica antes de la ingestión de la medicina, el Q1 es el valor 118. También indica que el 25% de los datos que deja por debajo tiene un valor menor o igual que 118, mientras que el 75% restante toma valores igual o mayor que 118.\n",
    "\n",
    "Q2 corresponde con el valor que deja el 50% de los datos a su izquierda, y Q3, con el que deja el 75% de los datos a su izquierda."
   ]
  },
  {
   "cell_type": "code",
   "execution_count": 7,
   "metadata": {},
   "outputs": [
    {
     "data": {
      "text/html": [
       "<div>\n",
       "<style scoped>\n",
       "    .dataframe tbody tr th:only-of-type {\n",
       "        vertical-align: middle;\n",
       "    }\n",
       "\n",
       "    .dataframe tbody tr th {\n",
       "        vertical-align: top;\n",
       "    }\n",
       "\n",
       "    .dataframe thead th {\n",
       "        text-align: right;\n",
       "    }\n",
       "</style>\n",
       "<table border=\"1\" class=\"dataframe\">\n",
       "  <thead>\n",
       "    <tr style=\"text-align: right;\">\n",
       "      <th></th>\n",
       "      <th>Presion sistólica antes</th>\n",
       "      <th>Presión sistólica después</th>\n",
       "    </tr>\n",
       "  </thead>\n",
       "  <tbody>\n",
       "    <tr>\n",
       "      <th>25%</th>\n",
       "      <td>118.0</td>\n",
       "      <td>115.00</td>\n",
       "    </tr>\n",
       "    <tr>\n",
       "      <th>50%</th>\n",
       "      <td>125.0</td>\n",
       "      <td>120.00</td>\n",
       "    </tr>\n",
       "    <tr>\n",
       "      <th>75%</th>\n",
       "      <td>135.0</td>\n",
       "      <td>131.25</td>\n",
       "    </tr>\n",
       "  </tbody>\n",
       "</table>\n",
       "</div>"
      ],
      "text/plain": [
       "     Presion sistólica antes  Presión sistólica después\n",
       "25%                    118.0                     115.00\n",
       "50%                    125.0                     120.00\n",
       "75%                    135.0                     131.25"
      ]
     },
     "execution_count": 7,
     "metadata": {},
     "output_type": "execute_result"
    }
   ],
   "source": [
    "# Crear df con los cuartiles para cada variable sobre hipertensión (utilizando datos de ambos grupos):\n",
    "(df_hipertension\n",
    "                [['Presion sistólica antes', 'Presión sistólica después']]\n",
    "                # Crear summary statistics\n",
    "                .describe()\n",
    "                # Filtar por cuartiles\n",
    "                .loc[['25%', '50%', '75%']]\n",
    ")"
   ]
  },
  {
   "cell_type": "markdown",
   "metadata": {},
   "source": [
    "Se observa la presencia de 5 valores atípicos (más allá del 1,5 del rango intercuartílico) en la presión sistólica después de tomar el medicamento: 2 valores inusualmente grandes y 3 inusualmente pequeñas."
   ]
  },
  {
   "cell_type": "code",
   "execution_count": 8,
   "metadata": {},
   "outputs": [
    {
     "data": {
      "image/png": "[encoded data removed]",
      "text/plain": [
       "<Figure size 640x480 with 2 Axes>"
      ]
     },
     "metadata": {},
     "output_type": "display_data"
    }
   ],
   "source": [
    "# Crear las diagramas de cajas para ambas variables:\n",
    "(df_hipertension\n",
    "                [['Presion sistólica antes', 'Presión sistólica después']]\n",
    "                .plot.box(subplots=True)\n",
    ");"
   ]
  },
  {
   "cell_type": "code",
   "execution_count": 9,
   "metadata": {},
   "outputs": [
    {
     "data": {
      "text/html": [
       "<div>\n",
       "<style scoped>\n",
       "    .dataframe tbody tr th:only-of-type {\n",
       "        vertical-align: middle;\n",
       "    }\n",
       "\n",
       "    .dataframe tbody tr th {\n",
       "        vertical-align: top;\n",
       "    }\n",
       "\n",
       "    .dataframe thead th {\n",
       "        text-align: right;\n",
       "    }\n",
       "</style>\n",
       "<table border=\"1\" class=\"dataframe\">\n",
       "  <thead>\n",
       "    <tr style=\"text-align: right;\">\n",
       "      <th></th>\n",
       "      <th>Grupo</th>\n",
       "      <th>Edad</th>\n",
       "      <th>Presion sistólica antes</th>\n",
       "      <th>Presión sistólica después</th>\n",
       "      <th>Colesterol total</th>\n",
       "    </tr>\n",
       "  </thead>\n",
       "  <tbody>\n",
       "    <tr>\n",
       "      <th>42</th>\n",
       "      <td>2</td>\n",
       "      <td>76</td>\n",
       "      <td>151</td>\n",
       "      <td>158</td>\n",
       "      <td>246</td>\n",
       "    </tr>\n",
       "    <tr>\n",
       "      <th>61</th>\n",
       "      <td>2</td>\n",
       "      <td>50</td>\n",
       "      <td>153</td>\n",
       "      <td>161</td>\n",
       "      <td>179</td>\n",
       "    </tr>\n",
       "    <tr>\n",
       "      <th>65</th>\n",
       "      <td>2</td>\n",
       "      <td>81</td>\n",
       "      <td>105</td>\n",
       "      <td>83</td>\n",
       "      <td>187</td>\n",
       "    </tr>\n",
       "    <tr>\n",
       "      <th>67</th>\n",
       "      <td>2</td>\n",
       "      <td>68</td>\n",
       "      <td>121</td>\n",
       "      <td>90</td>\n",
       "      <td>184</td>\n",
       "    </tr>\n",
       "    <tr>\n",
       "      <th>80</th>\n",
       "      <td>2</td>\n",
       "      <td>45</td>\n",
       "      <td>100</td>\n",
       "      <td>77</td>\n",
       "      <td>190</td>\n",
       "    </tr>\n",
       "  </tbody>\n",
       "</table>\n",
       "</div>"
      ],
      "text/plain": [
       "    Grupo  Edad  Presion sistólica antes  Presión sistólica después  \\\n",
       "42      2    76                      151                        158   \n",
       "61      2    50                      153                        161   \n",
       "65      2    81                      105                         83   \n",
       "67      2    68                      121                         90   \n",
       "80      2    45                      100                         77   \n",
       "\n",
       "    Colesterol total  \n",
       "42               246  \n",
       "61               179  \n",
       "65               187  \n",
       "67               184  \n",
       "80               190  "
      ]
     },
     "execution_count": 9,
     "metadata": {},
     "output_type": "execute_result"
    }
   ],
   "source": [
    "# Dichos valores atípicos:\n",
    "df_hipertension.loc[((df_hipertension['Presión sistólica después'] > (131.25 + 1.5*(131.25-115)))) | \n",
    "                    ((df_hipertension['Presión sistólica después'] < (115 - 1.5*(131.25-115))))]"
   ]
  },
  {
   "cell_type": "markdown",
   "metadata": {},
   "source": [
    "### d)"
   ]
  },
  {
   "cell_type": "markdown",
   "metadata": {},
   "source": [
    "**Estudiar la normalidad de los datos de las variables relacionadas con \n",
    "la medición de la presión sistólica.**"
   ]
  },
  {
   "cell_type": "markdown",
   "metadata": {},
   "source": [
    "Observando las funciones de densidad, parece que la distribución de ambas variables se asemeja una normal, aunque la distribución de la presión después sea ligeramente asimétrica."
   ]
  },
  {
   "cell_type": "code",
   "execution_count": 10,
   "metadata": {},
   "outputs": [
    {
     "data": {
      "image/png": "[encoded data removed]",
      "text/plain": [
       "<Figure size 640x480 with 2 Axes>"
      ]
     },
     "metadata": {},
     "output_type": "display_data"
    }
   ],
   "source": [
    "# Visualizar las funciones de densidad para ambas variables:\n",
    "(df_hipertension\n",
    "                [['Presion sistólica antes', 'Presión sistólica después']]\n",
    "                .plot.density(subplots=True)\n",
    ");"
   ]
  },
  {
   "cell_type": "markdown",
   "metadata": {},
   "source": [
    "Basándonos en los QQ-plots, observamos que efectivamente la presión sistólica antes está normalmente distribuida. La gran mayoría de los cuantiles muestrales coinciden con los teóricos.\n",
    "\n",
    "En el caso de la presión sistólica después no podemos estar tan seguros de que sea normal por la presencia varios valores atípicos tanto por la izquierda como por la derecha. No obstante, el test de Shapiro-Milk nos indica que podemos estar seguros a un 95% de nivel de confianza de que dicha variable tiene una distribución normal (H0) ya que el p-valor es mayor que el nivel de significación: 0.108 > 0.05."
   ]
  },
  {
   "cell_type": "code",
   "execution_count": 11,
   "metadata": {},
   "outputs": [
    {
     "data": {
      "image/png": "[encoded data removed]",
      "text/plain": [
       "<Figure size 640x480 with 1 Axes>"
      ]
     },
     "metadata": {},
     "output_type": "display_data"
    }
   ],
   "source": [
    "import statsmodels.api as sm\n",
    "\n",
    "QQ_plot_antes = sm.qqplot(data=df_hipertension['Presion sistólica antes'],\n",
    "          fit=True, \n",
    "          line='45',\n",
    "          alpha= .4,\n",
    "          )\n",
    "\n",
    "QQ_plot_antes.suptitle('QQ-plot: Presión sistólica antes');"
   ]
  },
  {
   "cell_type": "code",
   "execution_count": 12,
   "metadata": {},
   "outputs": [
    {
     "data": {
      "image/png": "[encoded data removed]",
      "text/plain": [
       "<Figure size 640x480 with 1 Axes>"
      ]
     },
     "metadata": {},
     "output_type": "display_data"
    }
   ],
   "source": [
    "QQ_plot_desp = sm.qqplot(data=df_hipertension['Presión sistólica después'],\n",
    "          fit=True, \n",
    "          line='45',\n",
    "          alpha= .4,\n",
    "          )\n",
    "\n",
    "QQ_plot_desp.suptitle('QQ-plot: Presión sistólica después');"
   ]
  },
  {
   "cell_type": "code",
   "execution_count": 13,
   "metadata": {},
   "outputs": [
    {
     "name": "stdout",
     "output_type": "stream",
     "text": [
      "El p-valor del test de Shapiro-Milk: 0.1087.\n"
     ]
    }
   ],
   "source": [
    "# Test de Shapiro-Milk para presión sistólica después.\n",
    "_, pvalor = sp.stats.shapiro(df_hipertension['Presión sistólica después'])\n",
    "\n",
    "print(f\"El p-valor del test de Shapiro-Milk: {pvalor:.4f}.\")"
   ]
  },
  {
   "cell_type": "markdown",
   "metadata": {},
   "source": [
    "## Ejercicio 2"
   ]
  },
  {
   "cell_type": "markdown",
   "metadata": {},
   "source": [
    "**Con los datos del fichero anterior, se quiere estudiar la relación existente \n",
    "entre la presión sistólica después de la toma del medicamento y el \n",
    "colesterol total del paciente en los pacientes jóvenes ( grupo 1)**"
   ]
  },
  {
   "cell_type": "markdown",
   "metadata": {},
   "source": [
    "### a)"
   ]
  },
  {
   "cell_type": "markdown",
   "metadata": {},
   "source": [
    "**Estudiar la relación lineal existente entre estas dos variables de\n",
    "estudio.**"
   ]
  },
  {
   "cell_type": "markdown",
   "metadata": {},
   "source": [
    "Se observa una fuerte relación lineal positiva entre la presión sistológica después de tomar el medicamento y el nivel de colesterol total de los pacientes jóvenes mediante el gráfico de dispersión.\n",
    "\n",
    "Esta correlación positiva es confirmada por el resultado de la correlación de Pearson, el cual da un resultado aproximado de 0.77, indicando una fuerte correlación lineal positive entre las dos variables."
   ]
  },
  {
   "cell_type": "code",
   "execution_count": 14,
   "metadata": {},
   "outputs": [
    {
     "data": {
      "image/png": "[encoded data removed]",
      "text/plain": [
       "<Figure size 640x480 with 1 Axes>"
      ]
     },
     "metadata": {},
     "output_type": "display_data"
    }
   ],
   "source": [
    "# Gráfica de dispersión entre la presión sistólica después y el colesterol total (grupo 1):\n",
    "(df_hipertension\n",
    "                # Filtrar por grupo 1\n",
    "                .loc[df_hipertension['Grupo'] == 1]\n",
    "                .plot.scatter(x='Colesterol total', y='Presión sistólica después')\n",
    ");"
   ]
  },
  {
   "cell_type": "code",
   "execution_count": 15,
   "metadata": {},
   "outputs": [
    {
     "data": {
      "text/html": [
       "<div>\n",
       "<style scoped>\n",
       "    .dataframe tbody tr th:only-of-type {\n",
       "        vertical-align: middle;\n",
       "    }\n",
       "\n",
       "    .dataframe tbody tr th {\n",
       "        vertical-align: top;\n",
       "    }\n",
       "\n",
       "    .dataframe thead th {\n",
       "        text-align: right;\n",
       "    }\n",
       "</style>\n",
       "<table border=\"1\" class=\"dataframe\">\n",
       "  <thead>\n",
       "    <tr style=\"text-align: right;\">\n",
       "      <th></th>\n",
       "      <th>Presión sistólica después</th>\n",
       "      <th>Colesterol total</th>\n",
       "    </tr>\n",
       "  </thead>\n",
       "  <tbody>\n",
       "    <tr>\n",
       "      <th>Presión sistólica después</th>\n",
       "      <td>1.000000</td>\n",
       "      <td>0.767135</td>\n",
       "    </tr>\n",
       "    <tr>\n",
       "      <th>Colesterol total</th>\n",
       "      <td>0.767135</td>\n",
       "      <td>1.000000</td>\n",
       "    </tr>\n",
       "  </tbody>\n",
       "</table>\n",
       "</div>"
      ],
      "text/plain": [
       "                           Presión sistólica después  Colesterol total\n",
       "Presión sistólica después                   1.000000          0.767135\n",
       "Colesterol total                            0.767135          1.000000"
      ]
     },
     "execution_count": 15,
     "metadata": {},
     "output_type": "execute_result"
    }
   ],
   "source": [
    "# Coeficiente de correlación de Pearson entre la presión sistólica después y el colesterol total (grupo 1):\n",
    "(df_hipertension\n",
    "                # Filtrar por grupo 1 y las dos variables de interés\n",
    "                .loc[df_hipertension['Grupo'] == 1, ['Presión sistólica después', 'Colesterol total']]\n",
    "                # Correlación de Pearson\n",
    "                .corr(method='pearson')\n",
    ")"
   ]
  },
  {
   "cell_type": "markdown",
   "metadata": {},
   "source": [
    "### b)"
   ]
  },
  {
   "cell_type": "markdown",
   "metadata": {},
   "source": [
    "**Obtener un modelo lineal que explica la presión sistólica del paciente\n",
    "joven a los 60 minutos de ingerir el medicamento en función de su \n",
    "colesterol total y realizar la estimación para un paciente del grupo 1 \n",
    "( joven) cuyo colesterol total es 105 mg/Dl**"
   ]
  },
  {
   "cell_type": "markdown",
   "metadata": {},
   "source": [
    "Según los resultados de los parámetros de la regresión OLS, el modelo es el siguiente:\n",
    "\n",
    "``Presión sistólica después (grupo 1) = 6,169 + 0,607*(Colesterol total)``\n",
    "\n",
    "La estimación de un paciente joven cuyo colesterol total es 105 es igual a 6,169 + 0,607*105 = **69.904**."
   ]
  },
  {
   "cell_type": "code",
   "execution_count": 16,
   "metadata": {},
   "outputs": [
    {
     "name": "stdout",
     "output_type": "stream",
     "text": [
      "                                OLS Regression Results                               \n",
      "=====================================================================================\n",
      "Dep. Variable:     Presión sistólica después   R-squared:                       0.588\n",
      "Model:                                   OLS   Adj. R-squared:                  0.578\n",
      "Method:                        Least Squares   F-statistic:                     54.34\n",
      "Date:                       Tue, 31 Oct 2023   Prob (F-statistic):           7.76e-09\n",
      "Time:                               00:34:52   Log-Likelihood:                -127.84\n",
      "No. Observations:                         40   AIC:                             259.7\n",
      "Df Residuals:                             38   BIC:                             263.1\n",
      "Df Model:                                  1                                         \n",
      "Covariance Type:                   nonrobust                                         \n",
      "====================================================================================\n",
      "                       coef    std err          t      P>|t|      [0.025      0.975]\n",
      "------------------------------------------------------------------------------------\n",
      "const                6.1699     15.457      0.399      0.692     -25.122      37.462\n",
      "Colesterol total     0.6076      0.082      7.372      0.000       0.441       0.774\n",
      "==============================================================================\n",
      "Omnibus:                        7.057   Durbin-Watson:                   1.566\n",
      "Prob(Omnibus):                  0.029   Jarque-Bera (JB):                5.743\n",
      "Skew:                           0.847   Prob(JB):                       0.0566\n",
      "Kurtosis:                       3.760   Cond. No.                     3.02e+03\n",
      "==============================================================================\n",
      "\n",
      "Notes:\n",
      "[1] Standard Errors assume that the covariance matrix of the errors is correctly specified.\n",
      "[2] The condition number is large, 3.02e+03. This might indicate that there are\n",
      "strong multicollinearity or other numerical problems.\n"
     ]
    }
   ],
   "source": [
    "import statsmodels.api as sm\n",
    "\n",
    "# Definir nuestro variable dependiente e independiente\n",
    "y = df_hipertension[df_hipertension['Grupo'] == 1]['Presión sistólica después']\n",
    "x = df_hipertension[df_hipertension['Grupo'] == 1]['Colesterol total']\n",
    "\n",
    "# Añadir una columna para el término constante\n",
    "x = sm.add_constant(x)\n",
    "\n",
    "# Crear el modelo lineal (OLS) \n",
    "modelo = sm.OLS(y, x)\n",
    "\n",
    "# Ajustar el modelo\n",
    "resultado = modelo.fit()\n",
    "\n",
    "# Mostrar el resultado\n",
    "print(resultado.summary())"
   ]
  },
  {
   "cell_type": "markdown",
   "metadata": {},
   "source": [
    "### c)"
   ]
  },
  {
   "cell_type": "markdown",
   "metadata": {},
   "source": [
    "**¿Qué tanto por ciento de la presión sistólica del paciente joven a los \n",
    "60 minutos de ingerir el medicamento no queda explicado por el anterior\n",
    "modelo? ¿Cómo podrías mejorar el modelo?**"
   ]
  },
  {
   "cell_type": "markdown",
   "metadata": {},
   "source": [
    "El coeficiente de determinación (R^2) de una regresión OLS con una sola variable independiente es el coeficiente de correlación de Pearson elevado al cuadrado: 0,767^2 = **0,588**. Es decir, cerca del 59% de la variabilidad de la presión sistólica del paciente joven  después de una hora de ingerir el medicamento puede ser explicada por su nivel de colesterol total.\n",
    "\n",
    "Por lo tanto el porcentaje restante es la variabilidad de la variable dependiente que no ha podido ser explicado por el modelo anterior: 1 - 0,588 = 0,412 (**41,2%**).\n",
    "\n",
    "El modelo puede mejorar incluyendo otras variables predictoras de la presión sistólica como el sexo, peso corporal, cantidad de ejercicio físico, etc."
   ]
  },
  {
   "cell_type": "markdown",
   "metadata": {},
   "source": [
    "### d)"
   ]
  },
  {
   "cell_type": "markdown",
   "metadata": {},
   "source": [
    "**Si aumentásemos el colesterol de un paciente en 5 mg/Dl ¿Qué\n",
    "variación experimentaría su presión sistólica después de 60 minutos de \n",
    "ingerir el medicamento?**"
   ]
  },
  {
   "cell_type": "markdown",
   "metadata": {},
   "source": [
    "``Presión sistólica después (grupo 1) = 6,169 + 0,607*(Colesterol total)``\n",
    "\n",
    "El coeficiente 0,607 indica el valor de incremento de una unidad de colesterol en la presión sistólica después de 60 minutos de ingerir el medicamento en un paciente joven en promedio. Se obtiene calculado la derivada parcial de la presión sistólica después respecto al colesterol total.\n",
    "\n",
    "Por lo tanto, si el colesterol total de un paciente joven se incrementa en 5, entonces la variación que experimentaría en su presión sistólica después de 60 minutos de ingerir el medicamento es de 0,607*5 = **3,035**."
   ]
  },
  {
   "cell_type": "markdown",
   "metadata": {},
   "source": [
    "## Ejercicio 3"
   ]
  },
  {
   "cell_type": "markdown",
   "metadata": {},
   "source": [
    "### a)"
   ]
  },
  {
   "cell_type": "markdown",
   "metadata": {},
   "source": [
    "**Se quiere estudiar si se puede admitir que la presión sistólica media \n",
    "en el momento de la ingestión de la población adulta (grupo 2) es 130\n",
    "mm de Hg. Obtener el intervalo de confianza al 95% y al 99% para el\n",
    "nivel medio de presión sistólica antes de la toma del medicamento en\n",
    "el grupo de los adultos y posteriormente contesta a la cuestión\n",
    "planteada con los resultados obtenidos o mediante un contraste de\n",
    "hipótesis.**"
   ]
  },
  {
   "cell_type": "markdown",
   "metadata": {},
   "source": [
    "H0: miu = 130\n",
    "H1: miu != 130\n",
    "\n",
    "Como la supuesta media poblacional de la presión sistólica antes en el grupo 2 (130) está contenida tanto en los intervalos de confianza al nivel 95 and 99%, no hay evidencias suficientes para determinar que la media poblacional sea significativamente diferente de 130 mm de Hg (a niveles de significación 0.05 y 0.01). Por lo tanto, se puede admitir que la media de la presión sistólica antes del grupo 2 sea 130 mm de Hg."
   ]
  },
  {
   "cell_type": "code",
   "execution_count": 17,
   "metadata": {},
   "outputs": [],
   "source": [
    "# Al parecer no existe funciones integradas en Python para calcular directamente intervalos de confianzas.\n",
    "# Crear una función para calcular intervalos de confianza para la media usando t-distribution:\n",
    "import scipy as sp\n",
    "import numpy as np\n",
    "\n",
    "def intervalo_confianza(datos, nivel_confianza=0.95):\n",
    "    \"\"\"Devuelve un mensaje con el intervalo de confianza de la media de la ``muestra`` dada y al ``nivel de confianza`` indicado.\n",
    "    El nivel de confianza por defecto es del 0.95 (95%).\"\"\"\n",
    "\n",
    "    t_statistic = np.abs(sp.stats.t.ppf((1 - nivel_confianza) / 2, df=len(datos) - 1))\n",
    "    media = datos.mean()\n",
    "    error_estandar = datos.std() / np.sqrt(len(datos))\n",
    "    \n",
    "    margen_error = t_statistic * error_estandar\n",
    "    limite_inferior = media - margen_error\n",
    "    limite_superior = media + margen_error\n",
    "    \n",
    "    print(f\"La media muestral es {media:.3f} y el intervalo de confianza de '{datos.name}' al {nivel_confianza*100:.0f}% de confianza:[{limite_inferior:.3f}, {limite_superior:.3f}].\")\n",
    "    print(f\"Este intervalo contiene las medias muestrales el {nivel_confianza*100}% de las veces.\") \n",
    "    print(f\"Por ello, hay un {nivel_confianza*100:.0f}% de confianza de que este intervalo contenga la media poblacional.\")"
   ]
  },
  {
   "cell_type": "code",
   "execution_count": 18,
   "metadata": {},
   "outputs": [
    {
     "name": "stdout",
     "output_type": "stream",
     "text": [
      "La media muestral es 127.483 y el intervalo de confianza de 'Presion sistólica antes' al 95% de confianza:[123.895, 131.071].\n",
      "Este intervalo contiene las medias muestrales el 95.0% de las veces.\n",
      "Por ello, hay un 95% de confianza de que este intervalo contenga la media poblacional.\n"
     ]
    }
   ],
   "source": [
    "# Intervalo de confianza al 95% de la media de la presión sistólica antes del grupo 2:\n",
    "# Crear un dataframe únicamente para grupo 2 (adultos)\n",
    "grupo2 = df_hipertension[df_hipertension['Grupo'] == 2]\n",
    "\n",
    "intervalo_confianza(datos=grupo2['Presion sistólica antes'],\n",
    "                    nivel_confianza=0.95)"
   ]
  },
  {
   "cell_type": "code",
   "execution_count": 19,
   "metadata": {},
   "outputs": [
    {
     "name": "stdout",
     "output_type": "stream",
     "text": [
      "La media muestral es 127.483 y el intervalo de confianza de 'Presion sistólica antes' al 99% de confianza:[122.711, 132.256].\n",
      "Este intervalo contiene las medias muestrales el 99.0% de las veces.\n",
      "Por ello, hay un 99% de confianza de que este intervalo contenga la media poblacional.\n"
     ]
    }
   ],
   "source": [
    "# Intervalo de confianza al 99% de la media:\n",
    "intervalo_confianza(datos=grupo2['Presion sistólica antes'],\n",
    "                    nivel_confianza=0.99)"
   ]
  },
  {
   "cell_type": "code",
   "execution_count": 20,
   "metadata": {},
   "outputs": [
    {
     "data": {
      "text/plain": [
       "0.16568525745079007"
      ]
     },
     "execution_count": 20,
     "metadata": {},
     "output_type": "execute_result"
    }
   ],
   "source": [
    "# Contraste de hipótesis una media:\n",
    "\n",
    "# El primer elemento de la tupla es el estdístico t, el segundo es el pvalor\n",
    "p_value_130 = sp.stats.ttest_1samp(grupo2['Presion sistólica antes'],\n",
    "                                   130)[1]\n",
    "p_value_130\n",
    "\n",
    "# Por lo tanto no podemos rechazar h0: media poblacional es 130 (ni con nivel de confianza 99% ni 95%)."
   ]
  },
  {
   "cell_type": "markdown",
   "metadata": {},
   "source": [
    "### b)"
   ]
  },
  {
   "cell_type": "markdown",
   "metadata": {},
   "source": [
    "**Obtener el intervalo de confianza al 95% para la diferencia de medias\n",
    "en la presión sistólica entre adultos yjóvenes después de la ingestión \n",
    "del medicamento. ¿Se puede concluir que después de la ingesta del \n",
    "medicamento la presión sistólica media de la población es distinta \n",
    "dependiendo de la edad?**"
   ]
  },
  {
   "cell_type": "markdown",
   "metadata": {},
   "source": [
    "H0: miu grupo 2 - miu grupo 2 = 0 <br />\n",
    "H1: miu grupo 2 - miu grupo 2 != 0\n",
    "\n",
    "Como 0 está contenido en el intervalo [-1.783, 8.883], no hay suficiente evidencias para afirmar que la diferencia de medias en la presión sistólica entre adultos y jóvenes después de la ingestión sea significativamente diferente al nivel de significación de 0.05."
   ]
  },
  {
   "cell_type": "code",
   "execution_count": 21,
   "metadata": {},
   "outputs": [],
   "source": [
    "# Crear un dataframe únicamente para grupo 1 (jóvenes)\n",
    "grupo1 = df_hipertension[df_hipertension['Grupo'] == 1]\n",
    "\n",
    "# Función para calcular intervalos de confianzas de diferencias de medias con distintas varianzas:\n",
    "def intervalo_confianza_diff(datos1, datos2, nivel_confianza=0.95):\n",
    "    \n",
    "    t_statistic = np.abs(sp.stats.t.ppf((1 - nivel_confianza)/2, df=len(datos1) + len(datos2) - 2))\n",
    "    diff_medias = datos1.mean() - datos2.mean()\n",
    "    error_estandar = np.sqrt(datos1.var()/len(datos1) + datos2.var()/len(datos2)) \n",
    "    \n",
    "    margen_error = t_statistic * error_estandar\n",
    "    limite_inferior = diff_medias - margen_error\n",
    "    limite_superior = diff_medias + margen_error\n",
    "    \n",
    "    print(f\"La diferencia de medias muestral es {diff_medias:.3f} y el intervalo de confianza de la diferencia de medias entre '{datos1.name}' y '{datos2.name}' al {nivel_confianza*100:.0f}% de confianza:[{limite_inferior:.3f}, {limite_superior:.3f}].\")\n",
    "    print(f\"Este intervalo contiene la diferencia de la medias muestrales el {nivel_confianza*100:.0f}% de las veces.\") \n",
    "    print(f\"Por ello, hay un {nivel_confianza*100:.0f}% de confianza de que este intervalo contenga la diferencia de medias poblacional.\")"
   ]
  },
  {
   "cell_type": "code",
   "execution_count": 22,
   "metadata": {},
   "outputs": [
    {
     "name": "stdout",
     "output_type": "stream",
     "text": [
      "La diferencia de medias muestral es 3.550 y el intervalo de confianza de la diferencia de medias entre 'Presión sistólica después' y 'Presión sistólica después' al 95% de confianza:[-1.783, 8.883].\n",
      "Este intervalo contiene la diferencia de la medias muestrales el 95% de las veces.\n",
      "Por ello, hay un 95% de confianza de que este intervalo contenga la diferencia de medias poblacional.\n"
     ]
    }
   ],
   "source": [
    "intervalo_confianza_diff(grupo2['Presión sistólica después'], \n",
    "                         grupo1['Presión sistólica después'], \n",
    "                         nivel_confianza=0.95)"
   ]
  },
  {
   "cell_type": "code",
   "execution_count": 23,
   "metadata": {},
   "outputs": [
    {
     "data": {
      "text/plain": [
       "0.18967318593745108"
      ]
     },
     "execution_count": 23,
     "metadata": {},
     "output_type": "execute_result"
    }
   ],
   "source": [
    "# test de diferencias de medias (2 muestras) con distintas varianzas (independientes):\n",
    "pvalue_diff = sp.stats.ttest_ind(grupo2['Presión sistólica después'], \n",
    "                                 grupo1['Presión sistólica después'], \n",
    "                                 equal_var=False)[1]\n",
    "pvalue_diff\n",
    "\n",
    "# No podemos rechazar H0 al nivel de significación 0.05"
   ]
  },
  {
   "cell_type": "markdown",
   "metadata": {},
   "source": [
    "### c)"
   ]
  },
  {
   "cell_type": "markdown",
   "metadata": {},
   "source": [
    "**Se quiere estudiar la proporción de la población con una presión \n",
    "sistólica inicial igual o superior a 130 mm de Hg (prehipertensión). A \n",
    "partir de la muestra del fichero (tomando todos los datos de presión \n",
    "sistólica antes de la toma del medicamento) obtener un intervalo de \n",
    "confianza al 99% de la proporción de la población con hipertensión y \n",
    "contrastar la hipótesis que el porcentaje de la población con presión \n",
    "sistólica superior o igual a 130 mm de Hg es 0,30 con nivel de\n",
    "significación del 5%.**"
   ]
  },
  {
   "cell_type": "markdown",
   "metadata": {},
   "source": [
    "X = población con una presión sistólica antes >= 130 mm de Hg.\n",
    "\n",
    "H0: p = 0.3 <br />\n",
    "H1: p != 0.3\n",
    "\n",
    "El intervalo de confianza al 99% es [0.3, 0.473].\n",
    "\n",
    "El pvalor del contraste de proporción frente a p = 0.3 es mayor que el nivel de significación del 5%: 0.2945 > 0.05. Por lo tanto, no hay suficiente evidencias para rechazar la H0. Se puede afirmar con un nivel de confianza del 95% que el porcentaje de pacientes con hipertensión es del 30 por ciento. "
   ]
  },
  {
   "cell_type": "code",
   "execution_count": 24,
   "metadata": {},
   "outputs": [
    {
     "data": {
      "text/html": [
       "<div>\n",
       "<style scoped>\n",
       "    .dataframe tbody tr th:only-of-type {\n",
       "        vertical-align: middle;\n",
       "    }\n",
       "\n",
       "    .dataframe tbody tr th {\n",
       "        vertical-align: top;\n",
       "    }\n",
       "\n",
       "    .dataframe thead th {\n",
       "        text-align: right;\n",
       "    }\n",
       "</style>\n",
       "<table border=\"1\" class=\"dataframe\">\n",
       "  <thead>\n",
       "    <tr style=\"text-align: right;\">\n",
       "      <th></th>\n",
       "      <th>Grupo</th>\n",
       "      <th>Edad</th>\n",
       "      <th>Presion sistólica antes</th>\n",
       "      <th>Presión sistólica después</th>\n",
       "      <th>Colesterol total</th>\n",
       "    </tr>\n",
       "  </thead>\n",
       "  <tbody>\n",
       "    <tr>\n",
       "      <th>4</th>\n",
       "      <td>1</td>\n",
       "      <td>35</td>\n",
       "      <td>131</td>\n",
       "      <td>132</td>\n",
       "      <td>200</td>\n",
       "    </tr>\n",
       "    <tr>\n",
       "      <th>11</th>\n",
       "      <td>1</td>\n",
       "      <td>24</td>\n",
       "      <td>131</td>\n",
       "      <td>128</td>\n",
       "      <td>202</td>\n",
       "    </tr>\n",
       "    <tr>\n",
       "      <th>14</th>\n",
       "      <td>1</td>\n",
       "      <td>25</td>\n",
       "      <td>134</td>\n",
       "      <td>131</td>\n",
       "      <td>206</td>\n",
       "    </tr>\n",
       "    <tr>\n",
       "      <th>21</th>\n",
       "      <td>1</td>\n",
       "      <td>33</td>\n",
       "      <td>142</td>\n",
       "      <td>138</td>\n",
       "      <td>214</td>\n",
       "    </tr>\n",
       "    <tr>\n",
       "      <th>22</th>\n",
       "      <td>1</td>\n",
       "      <td>31</td>\n",
       "      <td>138</td>\n",
       "      <td>129</td>\n",
       "      <td>210</td>\n",
       "    </tr>\n",
       "    <tr>\n",
       "      <th>23</th>\n",
       "      <td>1</td>\n",
       "      <td>29</td>\n",
       "      <td>139</td>\n",
       "      <td>125</td>\n",
       "      <td>200</td>\n",
       "    </tr>\n",
       "    <tr>\n",
       "      <th>28</th>\n",
       "      <td>1</td>\n",
       "      <td>21</td>\n",
       "      <td>131</td>\n",
       "      <td>142</td>\n",
       "      <td>200</td>\n",
       "    </tr>\n",
       "    <tr>\n",
       "      <th>32</th>\n",
       "      <td>1</td>\n",
       "      <td>28</td>\n",
       "      <td>130</td>\n",
       "      <td>121</td>\n",
       "      <td>196</td>\n",
       "    </tr>\n",
       "    <tr>\n",
       "      <th>33</th>\n",
       "      <td>1</td>\n",
       "      <td>35</td>\n",
       "      <td>137</td>\n",
       "      <td>131</td>\n",
       "      <td>210</td>\n",
       "    </tr>\n",
       "    <tr>\n",
       "      <th>42</th>\n",
       "      <td>2</td>\n",
       "      <td>76</td>\n",
       "      <td>151</td>\n",
       "      <td>158</td>\n",
       "      <td>246</td>\n",
       "    </tr>\n",
       "    <tr>\n",
       "      <th>43</th>\n",
       "      <td>2</td>\n",
       "      <td>39</td>\n",
       "      <td>141</td>\n",
       "      <td>135</td>\n",
       "      <td>212</td>\n",
       "    </tr>\n",
       "    <tr>\n",
       "      <th>45</th>\n",
       "      <td>2</td>\n",
       "      <td>54</td>\n",
       "      <td>132</td>\n",
       "      <td>128</td>\n",
       "      <td>195</td>\n",
       "    </tr>\n",
       "    <tr>\n",
       "      <th>46</th>\n",
       "      <td>2</td>\n",
       "      <td>53</td>\n",
       "      <td>136</td>\n",
       "      <td>141</td>\n",
       "      <td>198</td>\n",
       "    </tr>\n",
       "    <tr>\n",
       "      <th>48</th>\n",
       "      <td>2</td>\n",
       "      <td>61</td>\n",
       "      <td>140</td>\n",
       "      <td>113</td>\n",
       "      <td>174</td>\n",
       "    </tr>\n",
       "    <tr>\n",
       "      <th>50</th>\n",
       "      <td>2</td>\n",
       "      <td>49</td>\n",
       "      <td>138</td>\n",
       "      <td>139</td>\n",
       "      <td>214</td>\n",
       "    </tr>\n",
       "    <tr>\n",
       "      <th>57</th>\n",
       "      <td>2</td>\n",
       "      <td>48</td>\n",
       "      <td>145</td>\n",
       "      <td>155</td>\n",
       "      <td>150</td>\n",
       "    </tr>\n",
       "    <tr>\n",
       "      <th>58</th>\n",
       "      <td>2</td>\n",
       "      <td>36</td>\n",
       "      <td>139</td>\n",
       "      <td>135</td>\n",
       "      <td>201</td>\n",
       "    </tr>\n",
       "    <tr>\n",
       "      <th>61</th>\n",
       "      <td>2</td>\n",
       "      <td>50</td>\n",
       "      <td>153</td>\n",
       "      <td>161</td>\n",
       "      <td>179</td>\n",
       "    </tr>\n",
       "    <tr>\n",
       "      <th>63</th>\n",
       "      <td>2</td>\n",
       "      <td>70</td>\n",
       "      <td>130</td>\n",
       "      <td>120</td>\n",
       "      <td>229</td>\n",
       "    </tr>\n",
       "    <tr>\n",
       "      <th>71</th>\n",
       "      <td>2</td>\n",
       "      <td>70</td>\n",
       "      <td>143</td>\n",
       "      <td>152</td>\n",
       "      <td>195</td>\n",
       "    </tr>\n",
       "    <tr>\n",
       "      <th>72</th>\n",
       "      <td>2</td>\n",
       "      <td>68</td>\n",
       "      <td>138</td>\n",
       "      <td>125</td>\n",
       "      <td>245</td>\n",
       "    </tr>\n",
       "    <tr>\n",
       "      <th>73</th>\n",
       "      <td>2</td>\n",
       "      <td>54</td>\n",
       "      <td>135</td>\n",
       "      <td>138</td>\n",
       "      <td>250</td>\n",
       "    </tr>\n",
       "    <tr>\n",
       "      <th>74</th>\n",
       "      <td>2</td>\n",
       "      <td>39</td>\n",
       "      <td>140</td>\n",
       "      <td>138</td>\n",
       "      <td>251</td>\n",
       "    </tr>\n",
       "    <tr>\n",
       "      <th>75</th>\n",
       "      <td>2</td>\n",
       "      <td>41</td>\n",
       "      <td>143</td>\n",
       "      <td>135</td>\n",
       "      <td>210</td>\n",
       "    </tr>\n",
       "    <tr>\n",
       "      <th>78</th>\n",
       "      <td>2</td>\n",
       "      <td>38</td>\n",
       "      <td>143</td>\n",
       "      <td>140</td>\n",
       "      <td>233</td>\n",
       "    </tr>\n",
       "    <tr>\n",
       "      <th>79</th>\n",
       "      <td>2</td>\n",
       "      <td>40</td>\n",
       "      <td>138</td>\n",
       "      <td>134</td>\n",
       "      <td>298</td>\n",
       "    </tr>\n",
       "    <tr>\n",
       "      <th>84</th>\n",
       "      <td>2</td>\n",
       "      <td>65</td>\n",
       "      <td>135</td>\n",
       "      <td>130</td>\n",
       "      <td>210</td>\n",
       "    </tr>\n",
       "    <tr>\n",
       "      <th>85</th>\n",
       "      <td>2</td>\n",
       "      <td>76</td>\n",
       "      <td>134</td>\n",
       "      <td>133</td>\n",
       "      <td>222</td>\n",
       "    </tr>\n",
       "    <tr>\n",
       "      <th>86</th>\n",
       "      <td>2</td>\n",
       "      <td>74</td>\n",
       "      <td>149</td>\n",
       "      <td>145</td>\n",
       "      <td>190</td>\n",
       "    </tr>\n",
       "    <tr>\n",
       "      <th>89</th>\n",
       "      <td>2</td>\n",
       "      <td>64</td>\n",
       "      <td>136</td>\n",
       "      <td>134</td>\n",
       "      <td>198</td>\n",
       "    </tr>\n",
       "    <tr>\n",
       "      <th>90</th>\n",
       "      <td>2</td>\n",
       "      <td>62</td>\n",
       "      <td>140</td>\n",
       "      <td>135</td>\n",
       "      <td>269</td>\n",
       "    </tr>\n",
       "    <tr>\n",
       "      <th>91</th>\n",
       "      <td>2</td>\n",
       "      <td>50</td>\n",
       "      <td>142</td>\n",
       "      <td>138</td>\n",
       "      <td>280</td>\n",
       "    </tr>\n",
       "    <tr>\n",
       "      <th>92</th>\n",
       "      <td>2</td>\n",
       "      <td>52</td>\n",
       "      <td>135</td>\n",
       "      <td>130</td>\n",
       "      <td>195</td>\n",
       "    </tr>\n",
       "    <tr>\n",
       "      <th>96</th>\n",
       "      <td>2</td>\n",
       "      <td>50</td>\n",
       "      <td>148</td>\n",
       "      <td>141</td>\n",
       "      <td>239</td>\n",
       "    </tr>\n",
       "    <tr>\n",
       "      <th>98</th>\n",
       "      <td>2</td>\n",
       "      <td>52</td>\n",
       "      <td>154</td>\n",
       "      <td>155</td>\n",
       "      <td>270</td>\n",
       "    </tr>\n",
       "  </tbody>\n",
       "</table>\n",
       "</div>"
      ],
      "text/plain": [
       "    Grupo  Edad  Presion sistólica antes  Presión sistólica después  \\\n",
       "4       1    35                      131                        132   \n",
       "11      1    24                      131                        128   \n",
       "14      1    25                      134                        131   \n",
       "21      1    33                      142                        138   \n",
       "22      1    31                      138                        129   \n",
       "23      1    29                      139                        125   \n",
       "28      1    21                      131                        142   \n",
       "32      1    28                      130                        121   \n",
       "33      1    35                      137                        131   \n",
       "42      2    76                      151                        158   \n",
       "43      2    39                      141                        135   \n",
       "45      2    54                      132                        128   \n",
       "46      2    53                      136                        141   \n",
       "48      2    61                      140                        113   \n",
       "50      2    49                      138                        139   \n",
       "57      2    48                      145                        155   \n",
       "58      2    36                      139                        135   \n",
       "61      2    50                      153                        161   \n",
       "63      2    70                      130                        120   \n",
       "71      2    70                      143                        152   \n",
       "72      2    68                      138                        125   \n",
       "73      2    54                      135                        138   \n",
       "74      2    39                      140                        138   \n",
       "75      2    41                      143                        135   \n",
       "78      2    38                      143                        140   \n",
       "79      2    40                      138                        134   \n",
       "84      2    65                      135                        130   \n",
       "85      2    76                      134                        133   \n",
       "86      2    74                      149                        145   \n",
       "89      2    64                      136                        134   \n",
       "90      2    62                      140                        135   \n",
       "91      2    50                      142                        138   \n",
       "92      2    52                      135                        130   \n",
       "96      2    50                      148                        141   \n",
       "98      2    52                      154                        155   \n",
       "\n",
       "    Colesterol total  \n",
       "4                200  \n",
       "11               202  \n",
       "14               206  \n",
       "21               214  \n",
       "22               210  \n",
       "23               200  \n",
       "28               200  \n",
       "32               196  \n",
       "33               210  \n",
       "42               246  \n",
       "43               212  \n",
       "45               195  \n",
       "46               198  \n",
       "48               174  \n",
       "50               214  \n",
       "57               150  \n",
       "58               201  \n",
       "61               179  \n",
       "63               229  \n",
       "71               195  \n",
       "72               245  \n",
       "73               250  \n",
       "74               251  \n",
       "75               210  \n",
       "78               233  \n",
       "79               298  \n",
       "84               210  \n",
       "85               222  \n",
       "86               190  \n",
       "89               198  \n",
       "90               269  \n",
       "91               280  \n",
       "92               195  \n",
       "96               239  \n",
       "98               270  "
      ]
     },
     "execution_count": 24,
     "metadata": {},
     "output_type": "execute_result"
    }
   ],
   "source": [
    "# Crear un dataframe solamente para pacientes con presión sistólica mayor o igual que 130\n",
    "presion_mayor130 = df_hipertension[df_hipertension['Presion sistólica antes'] >= 130]\n",
    "presion_mayor130"
   ]
  },
  {
   "cell_type": "code",
   "execution_count": 25,
   "metadata": {},
   "outputs": [
    {
     "name": "stdout",
     "output_type": "stream",
     "text": [
      "El intervalo de confianza:[0.3, 0.473]\n"
     ]
    }
   ],
   "source": [
    "# Crear intervalo de confianza al 99% para proporción de pacientes con presión antes mayor o igual que 130:\n",
    "nivel_confianza = 0.99\n",
    "\n",
    "z_statistic = np.abs(sp.stats.norm.ppf((1 - nivel_confianza)/2))\n",
    "num_total = len(df_hipertension['Presion sistólica antes'])\n",
    "num_exitos = len(presion_mayor130)\n",
    "p_muestral = num_exitos / num_total\n",
    "des_tipica = np.sqrt((p_muestral*(1 - p_muestral))/num_total)\n",
    "\n",
    "lim_inferior = p_muestral - z_statistic * des_tipica\n",
    "lim_superior = p_muestral + z_statistic * des_tipica\n",
    "\n",
    "print(f\"El intervalo de confianza:[{0.3}, {lim_superior:.3f}]\")"
   ]
  },
  {
   "cell_type": "code",
   "execution_count": 26,
   "metadata": {},
   "outputs": [
    {
     "data": {
      "text/plain": [
       "0.29450739368011025"
      ]
     },
     "execution_count": 26,
     "metadata": {},
     "output_type": "execute_result"
    }
   ],
   "source": [
    "# Contrastar proporciones al 95%: p0 = 0,3\n",
    "pvalue_prop = sm.stats.proportions_ztest(count=num_exitos, \n",
    "                                         nobs= num_total, \n",
    "                                         value=0.3)[1]\n",
    "pvalue_prop"
   ]
  },
  {
   "cell_type": "markdown",
   "metadata": {},
   "source": [
    "### d) VOLUNTARIO"
   ]
  },
  {
   "cell_type": "markdown",
   "metadata": {},
   "source": [
    "**Por último, se quiere estudiar la eficacia del \n",
    "medicamento en la población adulta. ¿Existe variación significativa de \n",
    "la presión sistólica después de la toma del medicamento en la \n",
    "población del grupo 2? Plantea el correspondiente contraste de\n",
    "hipótesis considerando un nivel de significación del 5%. Ayuda: \n",
    "Para contestar a la pregunta has de considerar la series de datos \n",
    "obtenidas a partir de las diferencias entre la presión sistólica antes de \n",
    "la toma y la presión sistólica al cabode 60 minutos en el grupo de los \n",
    "adultos (contraste de muestras emparejadas).**"
   ]
  },
  {
   "cell_type": "markdown",
   "metadata": {},
   "source": [
    "H0: miu despues - miu antes = 0 <br />\n",
    "H1: miu despues - miu antes != 0\n",
    "\n",
    "El pvalor resultante de la contraste de hipótesis emparejada (0.00036) es menor que 0.05, lo cual sugiere que el medicamento ha tenido un effecto significativo en la reducción de presión sistólica en los adultos (grupo 2); la reducción de promedio es de 4.033 mm de Hg."
   ]
  },
  {
   "cell_type": "code",
   "execution_count": 27,
   "metadata": {},
   "outputs": [
    {
     "data": {
      "text/plain": [
       "-4.033333333333331"
      ]
     },
     "execution_count": 27,
     "metadata": {},
     "output_type": "execute_result"
    }
   ],
   "source": [
    "# Diferencia de medias grupo 2:\n",
    "grupo2['Presión sistólica después'].mean() - grupo2['Presion sistólica antes'].mean()"
   ]
  },
  {
   "cell_type": "code",
   "execution_count": 28,
   "metadata": {},
   "outputs": [
    {
     "data": {
      "text/plain": [
       "0.00036311775489927307"
      ]
     },
     "execution_count": 28,
     "metadata": {},
     "output_type": "execute_result"
    }
   ],
   "source": [
    "# Contraste de hipótesis emparejada (related/paired) con alpha = 0.05:\n",
    "pvalue_paired = sp.stats.ttest_rel(grupo2['Presion sistólica antes'], \n",
    "                                   grupo2['Presión sistólica después'])[1]\n",
    "pvalue_paired"
   ]
  }
 ],
 "metadata": {
  "kernelspec": {
   "display_name": "DS4B",
   "language": "python",
   "name": "python3"
  },
  "language_info": {
   "codemirror_mode": {
    "name": "ipython",
    "version": 3
   },
   "file_extension": ".py",
   "mimetype": "text/x-python",
   "name": "python",
   "nbconvert_exporter": "python",
   "pygments_lexer": "ipython3",
   "version": "3.10.12"
  },
  "orig_nbformat": 4
 },
 "nbformat": 4,
 "nbformat_minor": 2
}
